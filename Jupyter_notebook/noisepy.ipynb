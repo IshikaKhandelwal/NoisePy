{
  "nbformat": 4,
  "nbformat_minor": 0,
  "metadata": {
    "colab": {
      "provenance": []
    },
    "kernelspec": {
      "name": "python3",
      "display_name": "Python 3"
    },
    "language_info": {
      "name": "python"
    }
  },
  "cells": [
    {
      "cell_type": "markdown",
      "source": [
        "# Welcome to the NoisePy Colab Tutorial!\n",
        "\n",
        "This tutorial will walk you through the basic steps of using NoisePy to compute ambient noise cross correlation functions.\n"
      ],
      "metadata": {
        "id": "PIA2IaqUOeOA"
      }
    },
    {
      "cell_type": "markdown",
      "source": [
        "First, we install the noisepy-seis package"
      ],
      "metadata": {
        "id": "FaKuajVCOo2r"
      }
    },
    {
      "cell_type": "code",
      "source": [
        "!pip install noisepy-seis"
      ],
      "metadata": {
        "id": "rR860zaZPZGH"
      },
      "execution_count": null,
      "outputs": []
    },
    {
      "cell_type": "markdown",
      "source": [
        "__Warning__: NoisePy uses ```obspy``` as a core Python module to manipulate seismic data. Restart the runtime now for proper installation of ```obspy``` on Colab."
      ],
      "metadata": {
        "id": "_QvfrDdZOv12"
      }
    },
    {
      "cell_type": "markdown",
      "source": [
        "Then we import the basic modules"
      ],
      "metadata": {
        "id": "WtDb2_y3Oreg"
      }
    },
    {
      "cell_type": "code",
      "source": [
        "from noisepy.seis import download, cross_correlate, stack, plotting_modules\n",
        "import os\n",
        "import glob\n",
        "\n",
        "path = \"/content/data\""
      ],
      "metadata": {
        "id": "vceZgD83PnNc"
      },
      "execution_count": null,
      "outputs": []
    },
    {
      "cell_type": "markdown",
      "source": [
        "## Step 0: download data\n",
        "\n",
        "Use the function ```download``` with the following arguments: \n",
        "* ```path``` of where to put the data\n",
        "* ``` channel list```: list of the seismic channels to download, and example is shown below\n",
        "* ```station list```: list of the seismic stations (we need to change this to net.sta.loc.chan) \n",
        "* ```start time```: we need to change this to a datetime object\n",
        "* ```end time```: we need to change this to a datetime object, or format it with a standard UTCDatetime\n",
        "* ``inc_hour``: is the number of hours as increments, this interger is used to split the original data (usually in 1-day long time series for broadband seismometers) into shorter time chunk. It helps manage memory for large arrays."
      ],
      "metadata": {
        "id": "c5JaBXKpO_Oi"
      }
    },
    {
      "cell_type": "code",
      "source": [
        "download(path, [\"BHE\",\"BHN\",\"BHZ\"], [\"ARV\", \"BAK\", \"BCW\"], [\"2019_02_01_00_00_00\"], [\"2019_02_05_00_00_00\"], 4)"
      ],
      "metadata": {
        "id": "fwJNnRURPxfW"
      },
      "execution_count": null,
      "outputs": []
    },
    {
      "cell_type": "code",
      "source": [
        "!ls ./data/RAW_DATA/*"
      ],
      "metadata": {
        "id": "klpx413Ty8zK"
      },
      "execution_count": null,
      "outputs": []
    },
    {
      "cell_type": "markdown",
      "source": [
        "Plot the raw data, make sure it's noise!"
      ],
      "metadata": {
        "id": "qknkeipDP8uF"
      }
    },
    {
      "cell_type": "code",
      "source": [
        "file = os.path.join(path, \"RAW_DATA/2019_02_01_00_00_00T2019_02_01_04_00_00.h5\")\n",
        "plotting_modules.plot_waveform(file,'CI','BAK',0.01,0.4)"
      ],
      "metadata": {
        "id": "To29cLijWzdQ"
      },
      "execution_count": null,
      "outputs": []
    },
    {
      "cell_type": "markdown",
      "source": [
        "## Step 1: Cross-correlation\n",
        "\n",
        "\n",
        "In this step, we will perform the first cross-correlation function with several configuration. The default values are typical for regional seismic networks:\n",
        "\n",
        "Window length\n",
        "* cc_len = 1800  #s, 30-min windows\n",
        "* step = 450 #s, overlapping window\n",
        "\n",
        "\n",
        "Data Processing choices:\n",
        "* **Temporal normalization**: essential processing choice: Noisepy uses 3 types of normalization with the parameter ``time_norm``, there are entered as strings: 'no','rma', 'one_bit'. RMA will run a smoothing over the absolute amplitude to normalize the time series, with om[it argument ``smooth_N`` (in points).\n",
        "\n",
        "\n",
        "* **Spectral normalization**: essentail processing choise. NoisePy uses 3 types of normalization there as well entered as strings: ''\n"
      ],
      "metadata": {
        "id": "Wwv1QCQhP_0Y"
      }
    },
    {
      "cell_type": "code",
      "source": [
        "cross_correlate(path, \"rma\")"
      ],
      "metadata": {
        "id": "jq2DKIS9Rl2H"
      },
      "execution_count": null,
      "outputs": []
    },
    {
      "cell_type": "markdown",
      "source": [
        "Plot a single set of the cross correlation"
      ],
      "metadata": {
        "id": "UbXJ1fk7QQjY"
      }
    },
    {
      "cell_type": "code",
      "source": [
        "file = os.path.join(path, 'CCF/2019_02_01_00_00_00T2019_02_01_04_00_00.h5')\n",
        "plotting_modules.plot_substack_cc(file,0.5,2,200,False)"
      ],
      "metadata": {
        "id": "pWcrfWO8W1tH"
      },
      "execution_count": null,
      "outputs": []
    },
    {
      "cell_type": "code",
      "source": [
        "print(plotting_modules.plot_substack_cc)"
      ],
      "metadata": {
        "id": "RqyfZTVWV1Du"
      },
      "execution_count": null,
      "outputs": []
    },
    {
      "cell_type": "markdown",
      "source": [
        "## Step 3: Stack the cross correlation\n",
        "\n",
        "Provide a pathto where the data is."
      ],
      "metadata": {
        "id": "GMeH9BslQSSJ"
      }
    },
    {
      "cell_type": "code",
      "source": [
        "stack(path, \"linear\")"
      ],
      "metadata": {
        "id": "cd32ntmAVx-z"
      },
      "execution_count": null,
      "outputs": []
    },
    {
      "cell_type": "markdown",
      "source": [
        "Plot the stacks"
      ],
      "metadata": {
        "id": "Of_MzZWFQ_Yn"
      }
    },
    {
      "cell_type": "code",
      "source": [
        "!ls ./data/*"
      ],
      "metadata": {
        "id": "D3YC3JX5lSKu"
      },
      "execution_count": null,
      "outputs": []
    },
    {
      "cell_type": "code",
      "source": [
        "files = glob.glob(os.path.join(path, 'CCF/*.h5'))\n",
        "print(files)\n",
        "plotting_modules.plot_all_moveout(files[0], 'Allstack_linear', 0.1, 0.2, 'ZZ', 1)\n"
      ],
      "metadata": {
        "id": "QKSeQpk7WKlW"
      },
      "execution_count": null,
      "outputs": []
    },
    {
      "cell_type": "code",
      "source": [],
      "metadata": {
        "id": "IXemb5DHWOqb"
      },
      "execution_count": null,
      "outputs": []
    }
  ]
}