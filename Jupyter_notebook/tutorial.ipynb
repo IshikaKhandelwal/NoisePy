{
  "cells": [
    {
      "cell_type": "markdown",
      "metadata": {
        "id": "PIA2IaqUOeOA"
      },
      "source": [
        "# Welcome to the NoisePy Colab Tutorial!\n",
        "\n",
        "This tutorial will walk you through the basic steps of using NoisePy to compute ambient noise cross correlation functions.\n"
      ]
    },
    {
      "cell_type": "markdown",
      "metadata": {
        "id": "FaKuajVCOo2r"
      },
      "source": [
        "First, we install the noisepy-seis package"
      ]
    },
    {
      "cell_type": "code",
      "execution_count": null,
      "metadata": {
        "id": "rR860zaZPZGH"
      },
      "outputs": [],
      "source": [
        "!pip install noisepy-seis"
      ]
    },
    {
      "cell_type": "markdown",
      "metadata": {
        "id": "_QvfrDdZOv12"
      },
      "source": [
        "__Warning__: NoisePy uses ```obspy``` as a core Python module to manipulate seismic data. Restart the runtime now for proper installation of ```obspy``` on Colab."
      ]
    },
    {
      "cell_type": "markdown",
      "metadata": {
        "id": "WtDb2_y3Oreg"
      },
      "source": [
        "Then we import the basic modules"
      ]
    },
    {
      "cell_type": "code",
      "execution_count": null,
      "metadata": {
        "id": "vceZgD83PnNc"
      },
      "outputs": [],
      "source": [
        "from noisepy.seis import download, cross_correlate, stack, plotting_modules\n",
        "from noisepy.seis.datatypes import ConfigParameters\n",
        "from noisepy.seis.asdfstore import ASDFRawDataStore, ASDFCCStore\n",
        "import os\n",
        "import glob\n",
        "\n",
        "path = \"/content/data\"\n",
        "raw_data_path = os.path.join(path, \"RAW_DATA\")\n",
        "cc_data_path = os.path.join(path, \"CCF\")\n",
        "stack_data_path = os.path.join(path, \"STACK\")\n",
        "config = ConfigParameters() # default config parameters which can be customized\n",
        "config.inc_hours = 4\n",
        "config.start_date = \"2019_02_01_00_00_00\"\n",
        "config.end_date = \"2019_02_05_00_00_00\""
      ]
    },
    {
      "cell_type": "markdown",
      "metadata": {
        "id": "c5JaBXKpO_Oi"
      },
      "source": [
        "## Step 0: download data\n",
        "\n",
        "Use the function ```download``` with the following arguments: \n",
        "* ```path``` of where to put the data\n",
        "* ``` channel list```: list of the seismic channels to download, and example is shown below\n",
        "* ```station list```: list of the seismic stations (we need to change this to net.sta.loc.chan) \n",
        "* ```start time```: we need to change this to a datetime object\n",
        "* ```end time```: we need to change this to a datetime object, or format it with a standard UTCDatetime\n",
        "* ``inc_hour``: is the number of hours as increments, this interger is used to split the original data (usually in 1-day long time series for broadband seismometers) into shorter time chunk. It helps manage memory for large arrays."
      ]
    },
    {
      "cell_type": "code",
      "execution_count": null,
      "metadata": {
        "id": "fwJNnRURPxfW"
      },
      "outputs": [],
      "source": [
        "download(path, [\"BHE\",\"BHN\",\"BHZ\"], [\"ARV\", \"BAK\", \"BCW\"], [config.start_date], [config.end_date], config.inc_hours)"
      ]
    },
    {
      "cell_type": "code",
      "execution_count": null,
      "metadata": {
        "id": "klpx413Ty8zK"
      },
      "outputs": [],
      "source": [
        "!ls ./data/RAW_DATA/*"
      ]
    },
    {
      "cell_type": "markdown",
      "metadata": {
        "id": "qknkeipDP8uF"
      },
      "source": [
        "Plot the raw data, make sure it's noise!"
      ]
    },
    {
      "cell_type": "code",
      "execution_count": null,
      "metadata": {
        "id": "To29cLijWzdQ"
      },
      "outputs": [],
      "source": [
        "file = os.path.join(raw_data_path, \"2019_02_01_00_00_00T2019_02_01_04_00_00.h5\")\n",
        "plotting_modules.plot_waveform(file,'CI','BAK',0.01,0.4)"
      ]
    },
    {
      "cell_type": "markdown",
      "metadata": {
        "id": "Wwv1QCQhP_0Y"
      },
      "source": [
        "## Step 1: Cross-correlation\n",
        "\n",
        "\n",
        "In this step, we will perform the first cross-correlation function with several configuration. The default values are typical for regional seismic networks:\n",
        "\n",
        "Window length\n",
        "* cc_len = 1800  #s, 30-min windows\n",
        "* step = 450 #s, overlapping window\n",
        "\n",
        "\n",
        "Data Processing choices:\n",
        "* **Temporal normalization**: essential processing choice: Noisepy uses 3 types of normalization with the parameter ``time_norm``, there are entered as strings: 'no','rma', 'one_bit'. RMA will run a smoothing over the absolute amplitude to normalize the time series, with om[it argument ``smooth_N`` (in points).\n",
        "\n",
        "\n",
        "* **Spectral normalization**: essentail processing choise. NoisePy uses 3 types of normalization there as well entered as strings: ''\n"
      ]
    },
    {
      "cell_type": "code",
      "execution_count": null,
      "metadata": {
        "id": "jq2DKIS9Rl2H"
      },
      "outputs": [],
      "source": [
        "config.freq_norm = \"rma\"\n",
        "raw_store = ASDFRawDataStore(raw_data_path) # Store for reading raw data\n",
        "cc_store = ASDFCCStore(cc_data_path) # Store for writing CC data\n",
        "cross_correlate(raw_store, config, cc_store)"
      ]
    },
    {
      "cell_type": "markdown",
      "metadata": {
        "id": "UbXJ1fk7QQjY"
      },
      "source": [
        "Plot a single set of the cross correlation"
      ]
    },
    {
      "cell_type": "code",
      "execution_count": null,
      "metadata": {
        "id": "pWcrfWO8W1tH"
      },
      "outputs": [],
      "source": [
        "file = os.path.join(cc_data_path, '2019_02_01_00_00_00T2019_02_01_04_00_00.h5')\n",
        "plotting_modules.plot_substack_cc(file,0.5,2,200,False)"
      ]
    },
    {
      "cell_type": "code",
      "execution_count": null,
      "metadata": {
        "id": "RqyfZTVWV1Du"
      },
      "outputs": [],
      "source": [
        "print(plotting_modules.plot_substack_cc)"
      ]
    },
    {
      "cell_type": "markdown",
      "metadata": {
        "id": "GMeH9BslQSSJ"
      },
      "source": [
        "## Step 3: Stack the cross correlation\n",
        "\n",
        "Provide a pathto where the data is."
      ]
    },
    {
      "cell_type": "code",
      "execution_count": null,
      "metadata": {
        "id": "cd32ntmAVx-z"
      },
      "outputs": [],
      "source": [
        "stack(path, \"linear\")"
      ]
    },
    {
      "cell_type": "markdown",
      "metadata": {
        "id": "Of_MzZWFQ_Yn"
      },
      "source": [
        "Plot the stacks"
      ]
    },
    {
      "cell_type": "code",
      "execution_count": null,
      "metadata": {
        "id": "D3YC3JX5lSKu"
      },
      "outputs": [],
      "source": [
        "!ls ./data/*"
      ]
    },
    {
      "cell_type": "code",
      "execution_count": null,
      "metadata": {
        "id": "QKSeQpk7WKlW"
      },
      "outputs": [],
      "source": [
        "files = glob.glob(os.path.join(stack_data_path, '**/*.h5'))\n",
        "print(files)\n",
        "plotting_modules.plot_all_moveout(files, 'Allstack_linear', 0.1, 0.2, 'ZZ', 1)"
      ]
    }
  ],
  "metadata": {
    "colab": {
      "provenance": []
    },
    "kernelspec": {
      "display_name": "Python 3",
      "name": "python3"
    },
    "language_info": {
      "codemirror_mode": {
        "name": "ipython",
        "version": 3
      },
      "file_extension": ".py",
      "mimetype": "text/x-python",
      "name": "python",
      "nbconvert_exporter": "python",
      "pygments_lexer": "ipython3",
      "version": "3.9.13"
    }
  },
  "nbformat": 4,
  "nbformat_minor": 0
}
