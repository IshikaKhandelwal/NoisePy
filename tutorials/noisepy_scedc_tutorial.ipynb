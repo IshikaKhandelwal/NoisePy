{
  "cells": [
    {
      "attachments": {},
      "cell_type": "markdown",
      "metadata": {
        "id": "PIA2IaqUOeOA"
      },
      "source": [
        "# NoisePy SCEDC Tutorial\n",
        "\n",
        "Noisepy is a python software package to process ambient seismic noise cross correlations. This tutorial aims to introduce the use of noisepy for a toy problem on the SCEDC data. It can be ran locally or on the cloud.\n",
        "\n",
        "\n",
        "The data is stored on AWS S3 as the SCEDC Data Set: https://scedc.caltech.edu/data/getstarted-pds.html\n",
        "\n"
      ]
    },
    {
      "cell_type": "markdown",
      "metadata": {},
      "source": [
        "First, we install the noisepy-seis package"
      ]
    },
    {
      "cell_type": "code",
      "execution_count": null,
      "metadata": {},
      "outputs": [],
      "source": [
        "# Uncomment and run this line if the environment doesn't have noisepy already installed:\n",
        "# ! pip install noisepy-seis "
      ]
    },
    {
      "cell_type": "markdown",
      "metadata": {},
      "source": [
        "__Warning__: NoisePy uses ```obspy``` as a core Python module to manipulate seismic data. If you use Google Colab, restart the runtime now for proper installation of ```obspy``` on Colab."
      ]
    },
    {
      "cell_type": "markdown",
      "metadata": {
        "id": "WtDb2_y3Oreg"
      },
      "source": [
        "## Import necessary modules\n",
        "\n",
        "Then we import the basic modules"
      ]
    },
    {
      "cell_type": "code",
      "execution_count": 42,
      "metadata": {
        "id": "vceZgD83PnNc"
      },
      "outputs": [
        {
          "name": "stdout",
          "output_type": "stream",
          "text": [
            "Using NoisePy version 0.9.72.dev12\n"
          ]
        }
      ],
      "source": [
        "from noisepy.seis import cross_correlate, stack, plotting_modules, __version__       # noisepy core functions\n",
        "from noisepy.seis.asdfstore import ASDFCCStore, ASDFStackStore          # Object to store ASDF data within noisepy\n",
        "from noisepy.seis.scedc_s3store import SCEDCS3DataStore, channel_filter # Object to query SCEDC data from on S3\n",
        "from noisepy.seis.datatypes import ConfigParameters                     # Main configuration object\n",
        "from noisepy.seis.channelcatalog import XMLStationChannelCatalog        # Required stationXML handling object\n",
        "import os\n",
        "from datetime import datetime\n",
        "from datetimerange import DateTimeRange\n",
        "\n",
        "\n",
        "from noisepy.seis.plotting_modules import plot_all_moveout\n",
        "\n",
        "print(f\"Using NoisePy version {__version__}\")\n",
        "\n",
        "path = \"./scedc_data\" \n",
        "\n",
        "os.makedirs(path, exist_ok=True)\n",
        "cc_data_path = os.path.join(path, \"CCF\")\n",
        "stack_data_path = os.path.join(path, \"STACK\")\n",
        "S3_STORAGE_OPTIONS = {\"s3\": {\"anon\": True}}"
      ]
    },
    {
      "cell_type": "markdown",
      "metadata": {
        "id": "pntYzIYGNTn8"
      },
      "source": [
        "We will work with a single day worth of data on SCEDC. The continuous data is organized with a single day and channel per miniseed (https://scedc.caltech.edu/data/cloud.html). For this example, you can choose any year since 2002. We will just cross correlate a single day."
      ]
    },
    {
      "cell_type": "code",
      "execution_count": 43,
      "metadata": {
        "id": "yojR0Z3ALm6K"
      },
      "outputs": [
        {
          "name": "stdout",
          "output_type": "stream",
          "text": [
            "2002-01-02T00:00:00 - 2002-01-20T00:00:00\n"
          ]
        }
      ],
      "source": [
        "# SCEDC S3 bucket common URL characters for that day.\n",
        "S3_DATA = \"s3://scedc-pds/continuous_waveforms/\"\n",
        "# timeframe for analysis\n",
        "start = datetime(2002, 1, 2)\n",
        "end = datetime(2002, 1, 20)\n",
        "range = DateTimeRange(start, end)\n",
        "print(range)"
      ]
    },
    {
      "cell_type": "markdown",
      "metadata": {
        "id": "E1CC-BljNzus"
      },
      "source": [
        "The station information, including the instrumental response, is stored as stationXML in the following bucket"
      ]
    },
    {
      "cell_type": "code",
      "execution_count": 44,
      "metadata": {
        "id": "mhfgrMPALsYS"
      },
      "outputs": [],
      "source": [
        "S3_STATION_XML = \"s3://scedc-pds/FDSNstationXML/CI/\"            # S3 storage of stationXML\n"
      ]
    },
    {
      "cell_type": "markdown",
      "metadata": {
        "id": "ssaL5fa5IhI7"
      },
      "source": [
        "## Ambient Noise Project Configuration\n",
        "\n",
        "We prepare the configuration of the workflow by declaring and storing parameters into the ``ConfigParameters()`` object and/or editing the ``config.yml`` file.\n"
      ]
    },
    {
      "cell_type": "code",
      "execution_count": 45,
      "metadata": {
        "id": "dIjBD7riIfdJ"
      },
      "outputs": [],
      "source": [
        "# Initialize ambient noise workflow configuration\n",
        "config = ConfigParameters() # default config parameters which can be customized\n"
      ]
    },
    {
      "cell_type": "markdown",
      "metadata": {
        "id": "Tsp7RfC8IwE-"
      },
      "source": [
        "Customize the job parameters below:"
      ]
    },
    {
      "cell_type": "code",
      "execution_count": 46,
      "metadata": {
        "id": "ByEiHRjmIAPB"
      },
      "outputs": [],
      "source": [
        "\n",
        "config.acorr_only = False  # only perform auto-correlation or not\n",
        "config.xcorr_only = True  # only perform cross-correlation or not\n",
        "\n",
        "config.inc_hours = 24 # INC_HOURS is used in hours (integer) as the \n",
        "        #chunk of time that the paralelliztion will work.\n",
        "        # data will be loaded in memory, so reduce memory with smaller \n",
        "        # inc_hours if there are over 400+ stations.\n",
        "        # At regional scale for SCEDC, we can afford 20Hz data and inc_hour \n",
        "        # being a day of data.\n",
        "\n",
        " \n",
        "# pre-processing parameters\n",
        "config.samp_freq= 20  # (int) Sampling rate in Hz of desired processing (it can be different than the data sampling rate)\n",
        "config.cc_len= 3600.0  # (float) basic unit of data length for fft (sec)\n",
        "config.step= 1800.0  # (float) overlapping between each cc_len (sec)\n",
        "\n",
        "config.ncomp = 3  # 1 or 3 component data (needed to decide whether do rotation)\n",
        "\n",
        "config.stationxml= False  # station.XML file used to remove instrument response for SAC/miniseed data\n",
        "      # If True, the stationXML file is assumed to be provided.\n",
        "config.rm_resp= \"inv\"  # select 'no' to not remove response and use 'inv' if you use the stationXML,'spectrum',\n",
        "\n",
        "\n",
        "############## NOISE PRE-PROCESSING ##################\n",
        "config.freqmin,config.freqmax = 0.05,2.0  # broad band filtering of the data before cross correlation\n",
        "config.max_over_std  = 10  # threshold to remove window of bad signals: set it to 10*9 if prefer not to remove them\n",
        "\n",
        "################### SPECTRAL NORMALIZATION ############\n",
        "config.freq_norm= \"rma\"  # choose between \"rma\" for a soft whitening or \"no\" for no whitening. Pure whitening is not implemented correctly at this point.\n",
        "config.smoothspect_N = 10  # moving window length to smooth spectrum amplitude (points)\n",
        "    # here, choose smoothspect_N for the case of a strict whitening (e.g., phase_only)\n",
        "\n",
        "\n",
        "#################### TEMPORAL NORMALIZATION ##########\n",
        "config.time_norm = \"one_bit\"  # 'no' for no normalization, or 'rma', 'one_bit' for normalization in time domain,\n",
        "config.smooth_N= 10  # moving window length for time domain normalization if selected (points)\n",
        "\n",
        "\n",
        "############ cross correlation ##############\n",
        "\n",
        "config.cc_method= \"xcorr\"  # 'xcorr' for pure cross correlation OR 'deconv' for deconvolution;\n",
        "    # FOR \"COHERENCY\" PLEASE set freq_norm to \"rma\", time_norm to \"no\" and cc_method to \"xcorr\"\n",
        "\n",
        "# OUTPUTS:\n",
        "config.substack = True  # True = smaller stacks within the time chunk. False: it will stack over inc_hours\n",
        "config.substack_len = config.cc_len  # how long to stack over (for monitoring purpose): need to be multiples of cc_len\n",
        "    # if substack=True, substack_len=2*cc_len, then you pre-stack every 2 correlation windows.\n",
        "    # for instance: substack=True, substack_len=cc_len means that you keep ALL of the correlations\n",
        "    # if substack=False, the cross correlation will be stacked over the inc_hour window\n",
        "\n",
        "### For monitoring applications ####\n",
        "## we recommend substacking ever 2-4 cross correlations and storing the substacks\n",
        "# e.g. \n",
        "# config.substack = True \n",
        "# config.substack_len = 4* config.cc_len\n",
        "\n",
        "config.maxlag= 200  # lags of cross-correlation to save (sec)"
      ]
    },
    {
      "cell_type": "code",
      "execution_count": 47,
      "metadata": {},
      "outputs": [
        {
          "data": {
            "text/plain": [
              "0"
            ]
          },
          "execution_count": 47,
          "metadata": {},
          "output_type": "execute_result"
        }
      ],
      "source": [
        "# For this tutorial make sure the previous run is empty\n",
        "os.system(f\"rm -rf {cc_data_path}\")\n"
      ]
    },
    {
      "cell_type": "markdown",
      "metadata": {
        "id": "Wwv1QCQhP_0Y"
      },
      "source": [
        "## Step 1: Cross-correlation\n",
        "\n",
        "In this instance, we read directly the data from the scedc bucket into the cross correlation code. We are not attempting to recreate a data store. Therefore we go straight to step 1 of the cross correlations."
      ]
    },
    {
      "cell_type": "markdown",
      "metadata": {},
      "source": [
        "We first declare the data and cross correlation stores"
      ]
    },
    {
      "cell_type": "code",
      "execution_count": 51,
      "metadata": {
        "id": "jq2DKIS9Rl2H"
      },
      "outputs": [],
      "source": [
        "stations = \"A*\".split(\",\") # filter to these stations\n",
        "catalog = XMLStationChannelCatalog(S3_STATION_XML, storage_options=S3_STORAGE_OPTIONS) # Station catalog\n",
        "raw_store = SCEDCS3DataStore(S3_DATA, catalog, channel_filter(stations, \"BH\"), range, storage_options=S3_STORAGE_OPTIONS) # Store for reading raw data from S3 bucket\n",
        "cc_store = ASDFCCStore(cc_data_path) # Store for writing CC data"
      ]
    },
    {
      "cell_type": "markdown",
      "metadata": {
        "id": "5qsPGkNp9Msx"
      },
      "source": [
        "## Perform the cross correlation\n",
        "The data will be pulled from SCEDC, cross correlated, and stored locally if this notebook is ran locally."
      ]
    },
    {
      "cell_type": "code",
      "execution_count": 52,
      "metadata": {
        "id": "49MnDXYp9Msx"
      },
      "outputs": [
        {
          "name": "stderr",
          "output_type": "stream",
          "text": [
            "2023-09-09 15:37:24,509 4384736640 INFO S1_fft_cc_MPI.cross_correlate(): Starting Cross-Correlation with 10 cores\n",
            "2023-09-09 15:37:24,512 4384736640 INFO utils.log_raw(): TIMING: 0.0018 secs. for Loading 883 files from s3://scedc-pds/continuous_waveforms/2002/2002_002/\n",
            "2023-09-09 15:37:24,522 4384736640 INFO utils.log_raw(): TIMING: 0.0100 secs. for Init: 0 timespans and 0 channels\n",
            "2023-09-09 15:37:24,522 4384736640 INFO scedc_s3store.get_channels(): Getting 0 channels for 2002-01-02T00:00:00+0000 - 2002-01-03T00:00:00+0000: []\n",
            "2023-09-09 15:37:24,523 4384736640 INFO utils.log_raw(): TIMING CC Main: 0.0129 secs. for get 0 channels\n",
            "2023-09-09 15:37:24,523 4384736640 INFO S1_fft_cc_MPI.cross_correlate(): Checking for stations already done: 0 pairs\n",
            "2023-09-09 15:37:24,523 4384736640 INFO utils.log_raw(): TIMING CC Main: 0.0004 secs. for check for stations already done\n",
            "2023-09-09 15:37:24,524 4384736640 INFO S1_fft_cc_MPI.cross_correlate(): Still need to process: 0/0 stations, 0/0 channels, 0/0 pairs for 2002-01-02T00:00:00+0000 - 2002-01-03T00:00:00+0000\n",
            "2023-09-09 15:37:24,524 4384736640 WARNING S1_fft_cc_MPI.cross_correlate(): 2002-01-02T00:00:00+0000 - 2002-01-03T00:00:00+0000 already completed\n",
            "2023-09-09 15:37:24,526 4384736640 INFO utils.log_raw(): TIMING: 0.0017 secs. for Loading 880 files from s3://scedc-pds/continuous_waveforms/2002/2002_003/\n",
            "2023-09-09 15:37:24,536 4384736640 INFO utils.log_raw(): TIMING: 0.0097 secs. for Init: 0 timespans and 0 channels\n",
            "2023-09-09 15:37:24,536 4384736640 INFO scedc_s3store.get_channels(): Getting 0 channels for 2002-01-03T00:00:00+0000 - 2002-01-04T00:00:00+0000: []\n",
            "2023-09-09 15:37:24,537 4384736640 INFO utils.log_raw(): TIMING CC Main: 0.0124 secs. for get 0 channels\n",
            "2023-09-09 15:37:24,537 4384736640 INFO S1_fft_cc_MPI.cross_correlate(): Checking for stations already done: 0 pairs\n",
            "2023-09-09 15:37:24,537 4384736640 INFO utils.log_raw(): TIMING CC Main: 0.0004 secs. for check for stations already done\n",
            "2023-09-09 15:37:24,538 4384736640 INFO S1_fft_cc_MPI.cross_correlate(): Still need to process: 0/0 stations, 0/0 channels, 0/0 pairs for 2002-01-03T00:00:00+0000 - 2002-01-04T00:00:00+0000\n",
            "2023-09-09 15:37:24,538 4384736640 WARNING S1_fft_cc_MPI.cross_correlate(): 2002-01-03T00:00:00+0000 - 2002-01-04T00:00:00+0000 already completed\n",
            "2023-09-09 15:37:24,540 4384736640 INFO utils.log_raw(): TIMING: 0.0016 secs. for Loading 874 files from s3://scedc-pds/continuous_waveforms/2002/2002_004/\n",
            "2023-09-09 15:37:24,549 4384736640 INFO utils.log_raw(): TIMING: 0.0093 secs. for Init: 0 timespans and 0 channels\n",
            "2023-09-09 15:37:24,550 4384736640 INFO scedc_s3store.get_channels(): Getting 0 channels for 2002-01-04T00:00:00+0000 - 2002-01-05T00:00:00+0000: []\n",
            "2023-09-09 15:37:24,550 4384736640 INFO utils.log_raw(): TIMING CC Main: 0.0119 secs. for get 0 channels\n",
            "2023-09-09 15:37:24,550 4384736640 INFO S1_fft_cc_MPI.cross_correlate(): Checking for stations already done: 0 pairs\n",
            "2023-09-09 15:37:24,550 4384736640 INFO utils.log_raw(): TIMING CC Main: 0.0002 secs. for check for stations already done\n",
            "2023-09-09 15:37:24,551 4384736640 INFO S1_fft_cc_MPI.cross_correlate(): Still need to process: 0/0 stations, 0/0 channels, 0/0 pairs for 2002-01-04T00:00:00+0000 - 2002-01-05T00:00:00+0000\n",
            "2023-09-09 15:37:24,551 4384736640 WARNING S1_fft_cc_MPI.cross_correlate(): 2002-01-04T00:00:00+0000 - 2002-01-05T00:00:00+0000 already completed\n",
            "2023-09-09 15:37:24,554 4384736640 INFO utils.log_raw(): TIMING: 0.0023 secs. for Loading 874 files from s3://scedc-pds/continuous_waveforms/2002/2002_005/\n",
            "2023-09-09 15:37:24,562 4384736640 INFO utils.log_raw(): TIMING: 0.0089 secs. for Init: 0 timespans and 0 channels\n",
            "2023-09-09 15:37:24,563 4384736640 INFO scedc_s3store.get_channels(): Getting 0 channels for 2002-01-05T00:00:00+0000 - 2002-01-06T00:00:00+0000: []\n",
            "2023-09-09 15:37:24,563 4384736640 INFO utils.log_raw(): TIMING CC Main: 0.0121 secs. for get 0 channels\n",
            "2023-09-09 15:37:24,563 4384736640 INFO S1_fft_cc_MPI.cross_correlate(): Checking for stations already done: 0 pairs\n",
            "2023-09-09 15:37:24,564 4384736640 INFO utils.log_raw(): TIMING CC Main: 0.0004 secs. for check for stations already done\n",
            "2023-09-09 15:37:24,564 4384736640 INFO S1_fft_cc_MPI.cross_correlate(): Still need to process: 0/0 stations, 0/0 channels, 0/0 pairs for 2002-01-05T00:00:00+0000 - 2002-01-06T00:00:00+0000\n",
            "2023-09-09 15:37:24,564 4384736640 WARNING S1_fft_cc_MPI.cross_correlate(): 2002-01-05T00:00:00+0000 - 2002-01-06T00:00:00+0000 already completed\n",
            "2023-09-09 15:37:24,567 4384736640 INFO utils.log_raw(): TIMING: 0.0021 secs. for Loading 880 files from s3://scedc-pds/continuous_waveforms/2002/2002_006/\n",
            "2023-09-09 15:37:24,575 4384736640 INFO utils.log_raw(): TIMING: 0.0082 secs. for Init: 0 timespans and 0 channels\n",
            "2023-09-09 15:37:24,575 4384736640 INFO scedc_s3store.get_channels(): Getting 0 channels for 2002-01-06T00:00:00+0000 - 2002-01-07T00:00:00+0000: []\n",
            "2023-09-09 15:37:24,576 4384736640 INFO utils.log_raw(): TIMING CC Main: 0.0111 secs. for get 0 channels\n",
            "2023-09-09 15:37:24,576 4384736640 INFO S1_fft_cc_MPI.cross_correlate(): Checking for stations already done: 0 pairs\n",
            "2023-09-09 15:37:24,576 4384736640 INFO utils.log_raw(): TIMING CC Main: 0.0002 secs. for check for stations already done\n",
            "2023-09-09 15:37:24,576 4384736640 INFO S1_fft_cc_MPI.cross_correlate(): Still need to process: 0/0 stations, 0/0 channels, 0/0 pairs for 2002-01-06T00:00:00+0000 - 2002-01-07T00:00:00+0000\n",
            "2023-09-09 15:37:24,577 4384736640 WARNING S1_fft_cc_MPI.cross_correlate(): 2002-01-06T00:00:00+0000 - 2002-01-07T00:00:00+0000 already completed\n",
            "2023-09-09 15:37:24,579 4384736640 INFO utils.log_raw(): TIMING: 0.0016 secs. for Loading 886 files from s3://scedc-pds/continuous_waveforms/2002/2002_007/\n",
            "2023-09-09 15:37:24,587 4384736640 INFO utils.log_raw(): TIMING: 0.0083 secs. for Init: 0 timespans and 0 channels\n",
            "2023-09-09 15:37:24,587 4384736640 INFO scedc_s3store.get_channels(): Getting 0 channels for 2002-01-07T00:00:00+0000 - 2002-01-08T00:00:00+0000: []\n",
            "2023-09-09 15:37:24,588 4384736640 INFO utils.log_raw(): TIMING CC Main: 0.0109 secs. for get 0 channels\n",
            "2023-09-09 15:37:24,588 4384736640 INFO S1_fft_cc_MPI.cross_correlate(): Checking for stations already done: 0 pairs\n",
            "2023-09-09 15:37:24,589 4384736640 INFO utils.log_raw(): TIMING CC Main: 0.0008 secs. for check for stations already done\n",
            "2023-09-09 15:37:24,589 4384736640 INFO S1_fft_cc_MPI.cross_correlate(): Still need to process: 0/0 stations, 0/0 channels, 0/0 pairs for 2002-01-07T00:00:00+0000 - 2002-01-08T00:00:00+0000\n",
            "2023-09-09 15:37:24,590 4384736640 WARNING S1_fft_cc_MPI.cross_correlate(): 2002-01-07T00:00:00+0000 - 2002-01-08T00:00:00+0000 already completed\n",
            "2023-09-09 15:37:24,592 4384736640 INFO utils.log_raw(): TIMING: 0.0017 secs. for Loading 883 files from s3://scedc-pds/continuous_waveforms/2002/2002_008/\n",
            "2023-09-09 15:37:24,600 4384736640 INFO utils.log_raw(): TIMING: 0.0087 secs. for Init: 0 timespans and 0 channels\n",
            "2023-09-09 15:37:24,601 4384736640 INFO scedc_s3store.get_channels(): Getting 0 channels for 2002-01-08T00:00:00+0000 - 2002-01-09T00:00:00+0000: []\n",
            "2023-09-09 15:37:24,601 4384736640 INFO utils.log_raw(): TIMING CC Main: 0.0111 secs. for get 0 channels\n",
            "2023-09-09 15:37:24,601 4384736640 INFO S1_fft_cc_MPI.cross_correlate(): Checking for stations already done: 0 pairs\n",
            "2023-09-09 15:37:24,602 4384736640 INFO utils.log_raw(): TIMING CC Main: 0.0002 secs. for check for stations already done\n",
            "2023-09-09 15:37:24,602 4384736640 INFO S1_fft_cc_MPI.cross_correlate(): Still need to process: 0/0 stations, 0/0 channels, 0/0 pairs for 2002-01-08T00:00:00+0000 - 2002-01-09T00:00:00+0000\n",
            "2023-09-09 15:37:24,602 4384736640 WARNING S1_fft_cc_MPI.cross_correlate(): 2002-01-08T00:00:00+0000 - 2002-01-09T00:00:00+0000 already completed\n",
            "2023-09-09 15:37:24,604 4384736640 INFO utils.log_raw(): TIMING: 0.0016 secs. for Loading 886 files from s3://scedc-pds/continuous_waveforms/2002/2002_009/\n",
            "2023-09-09 15:37:24,613 4384736640 INFO utils.log_raw(): TIMING: 0.0088 secs. for Init: 0 timespans and 0 channels\n",
            "2023-09-09 15:37:24,613 4384736640 INFO scedc_s3store.get_channels(): Getting 0 channels for 2002-01-09T00:00:00+0000 - 2002-01-10T00:00:00+0000: []\n",
            "2023-09-09 15:37:24,613 4384736640 INFO utils.log_raw(): TIMING CC Main: 0.0112 secs. for get 0 channels\n",
            "2023-09-09 15:37:24,614 4384736640 INFO S1_fft_cc_MPI.cross_correlate(): Checking for stations already done: 0 pairs\n",
            "2023-09-09 15:37:24,614 4384736640 INFO utils.log_raw(): TIMING CC Main: 0.0003 secs. for check for stations already done\n",
            "2023-09-09 15:37:24,614 4384736640 INFO S1_fft_cc_MPI.cross_correlate(): Still need to process: 0/0 stations, 0/0 channels, 0/0 pairs for 2002-01-09T00:00:00+0000 - 2002-01-10T00:00:00+0000\n",
            "2023-09-09 15:37:24,615 4384736640 WARNING S1_fft_cc_MPI.cross_correlate(): 2002-01-09T00:00:00+0000 - 2002-01-10T00:00:00+0000 already completed\n",
            "2023-09-09 15:37:24,616 4384736640 INFO utils.log_raw(): TIMING: 0.0013 secs. for Loading 886 files from s3://scedc-pds/continuous_waveforms/2002/2002_010/\n",
            "2023-09-09 15:37:24,625 4384736640 INFO utils.log_raw(): TIMING: 0.0084 secs. for Init: 0 timespans and 0 channels\n",
            "2023-09-09 15:37:24,625 4384736640 INFO scedc_s3store.get_channels(): Getting 0 channels for 2002-01-10T00:00:00+0000 - 2002-01-11T00:00:00+0000: []\n",
            "2023-09-09 15:37:24,625 4384736640 INFO utils.log_raw(): TIMING CC Main: 0.0104 secs. for get 0 channels\n",
            "2023-09-09 15:37:24,626 4384736640 INFO S1_fft_cc_MPI.cross_correlate(): Checking for stations already done: 0 pairs\n",
            "2023-09-09 15:37:24,626 4384736640 INFO utils.log_raw(): TIMING CC Main: 0.0003 secs. for check for stations already done\n",
            "2023-09-09 15:37:24,626 4384736640 INFO S1_fft_cc_MPI.cross_correlate(): Still need to process: 0/0 stations, 0/0 channels, 0/0 pairs for 2002-01-10T00:00:00+0000 - 2002-01-11T00:00:00+0000\n",
            "2023-09-09 15:37:24,627 4384736640 WARNING S1_fft_cc_MPI.cross_correlate(): 2002-01-10T00:00:00+0000 - 2002-01-11T00:00:00+0000 already completed\n",
            "2023-09-09 15:37:24,628 4384736640 INFO utils.log_raw(): TIMING: 0.0014 secs. for Loading 886 files from s3://scedc-pds/continuous_waveforms/2002/2002_011/\n",
            "2023-09-09 15:37:24,637 4384736640 INFO utils.log_raw(): TIMING: 0.0086 secs. for Init: 0 timespans and 0 channels\n",
            "2023-09-09 15:37:24,638 4384736640 INFO scedc_s3store.get_channels(): Getting 0 channels for 2002-01-11T00:00:00+0000 - 2002-01-12T00:00:00+0000: []\n",
            "2023-09-09 15:37:24,638 4384736640 INFO utils.log_raw(): TIMING CC Main: 0.0109 secs. for get 0 channels\n",
            "2023-09-09 15:37:24,638 4384736640 INFO S1_fft_cc_MPI.cross_correlate(): Checking for stations already done: 0 pairs\n",
            "2023-09-09 15:37:24,638 4384736640 INFO utils.log_raw(): TIMING CC Main: 0.0002 secs. for check for stations already done\n",
            "2023-09-09 15:37:24,638 4384736640 INFO S1_fft_cc_MPI.cross_correlate(): Still need to process: 0/0 stations, 0/0 channels, 0/0 pairs for 2002-01-11T00:00:00+0000 - 2002-01-12T00:00:00+0000\n",
            "2023-09-09 15:37:24,639 4384736640 WARNING S1_fft_cc_MPI.cross_correlate(): 2002-01-11T00:00:00+0000 - 2002-01-12T00:00:00+0000 already completed\n",
            "2023-09-09 15:37:24,640 4384736640 INFO utils.log_raw(): TIMING: 0.0013 secs. for Loading 879 files from s3://scedc-pds/continuous_waveforms/2002/2002_012/\n",
            "2023-09-09 15:37:24,648 4384736640 INFO utils.log_raw(): TIMING: 0.0082 secs. for Init: 0 timespans and 0 channels\n",
            "2023-09-09 15:37:24,649 4384736640 INFO scedc_s3store.get_channels(): Getting 0 channels for 2002-01-12T00:00:00+0000 - 2002-01-13T00:00:00+0000: []\n",
            "2023-09-09 15:37:24,649 4384736640 INFO utils.log_raw(): TIMING CC Main: 0.0103 secs. for get 0 channels\n",
            "2023-09-09 15:37:24,649 4384736640 INFO S1_fft_cc_MPI.cross_correlate(): Checking for stations already done: 0 pairs\n",
            "2023-09-09 15:37:24,650 4384736640 INFO utils.log_raw(): TIMING CC Main: 0.0003 secs. for check for stations already done\n",
            "2023-09-09 15:37:24,650 4384736640 INFO S1_fft_cc_MPI.cross_correlate(): Still need to process: 0/0 stations, 0/0 channels, 0/0 pairs for 2002-01-12T00:00:00+0000 - 2002-01-13T00:00:00+0000\n",
            "2023-09-09 15:37:24,650 4384736640 WARNING S1_fft_cc_MPI.cross_correlate(): 2002-01-12T00:00:00+0000 - 2002-01-13T00:00:00+0000 already completed\n",
            "2023-09-09 15:37:24,653 4384736640 INFO utils.log_raw(): TIMING: 0.0026 secs. for Loading 879 files from s3://scedc-pds/continuous_waveforms/2002/2002_013/\n",
            "2023-09-09 15:37:24,662 4384736640 INFO utils.log_raw(): TIMING: 0.0085 secs. for Init: 0 timespans and 0 channels\n",
            "2023-09-09 15:37:24,662 4384736640 INFO scedc_s3store.get_channels(): Getting 0 channels for 2002-01-13T00:00:00+0000 - 2002-01-14T00:00:00+0000: []\n",
            "2023-09-09 15:37:24,662 4384736640 INFO utils.log_raw(): TIMING CC Main: 0.0119 secs. for get 0 channels\n",
            "2023-09-09 15:37:24,662 4384736640 INFO S1_fft_cc_MPI.cross_correlate(): Checking for stations already done: 0 pairs\n",
            "2023-09-09 15:37:24,663 4384736640 INFO utils.log_raw(): TIMING CC Main: 0.0002 secs. for check for stations already done\n",
            "2023-09-09 15:37:24,663 4384736640 INFO S1_fft_cc_MPI.cross_correlate(): Still need to process: 0/0 stations, 0/0 channels, 0/0 pairs for 2002-01-13T00:00:00+0000 - 2002-01-14T00:00:00+0000\n",
            "2023-09-09 15:37:24,663 4384736640 WARNING S1_fft_cc_MPI.cross_correlate(): 2002-01-13T00:00:00+0000 - 2002-01-14T00:00:00+0000 already completed\n",
            "2023-09-09 15:37:24,665 4384736640 INFO utils.log_raw(): TIMING: 0.0012 secs. for Loading 888 files from s3://scedc-pds/continuous_waveforms/2002/2002_014/\n",
            "2023-09-09 15:37:24,673 4384736640 INFO utils.log_raw(): TIMING: 0.0081 secs. for Init: 0 timespans and 0 channels\n",
            "2023-09-09 15:37:24,673 4384736640 INFO scedc_s3store.get_channels(): Getting 0 channels for 2002-01-14T00:00:00+0000 - 2002-01-15T00:00:00+0000: []\n",
            "2023-09-09 15:37:24,673 4384736640 INFO utils.log_raw(): TIMING CC Main: 0.0100 secs. for get 0 channels\n",
            "2023-09-09 15:37:24,673 4384736640 INFO S1_fft_cc_MPI.cross_correlate(): Checking for stations already done: 0 pairs\n",
            "2023-09-09 15:37:24,674 4384736640 INFO utils.log_raw(): TIMING CC Main: 0.0002 secs. for check for stations already done\n",
            "2023-09-09 15:37:24,674 4384736640 INFO S1_fft_cc_MPI.cross_correlate(): Still need to process: 0/0 stations, 0/0 channels, 0/0 pairs for 2002-01-14T00:00:00+0000 - 2002-01-15T00:00:00+0000\n",
            "2023-09-09 15:37:24,674 4384736640 WARNING S1_fft_cc_MPI.cross_correlate(): 2002-01-14T00:00:00+0000 - 2002-01-15T00:00:00+0000 already completed\n",
            "2023-09-09 15:37:24,676 4384736640 INFO utils.log_raw(): TIMING: 0.0014 secs. for Loading 882 files from s3://scedc-pds/continuous_waveforms/2002/2002_015/\n",
            "2023-09-09 15:37:24,684 4384736640 INFO utils.log_raw(): TIMING: 0.0083 secs. for Init: 0 timespans and 0 channels\n",
            "2023-09-09 15:37:24,685 4384736640 INFO scedc_s3store.get_channels(): Getting 0 channels for 2002-01-15T00:00:00+0000 - 2002-01-16T00:00:00+0000: []\n",
            "2023-09-09 15:37:24,685 4384736640 INFO utils.log_raw(): TIMING CC Main: 0.0104 secs. for get 0 channels\n",
            "2023-09-09 15:37:24,685 4384736640 INFO S1_fft_cc_MPI.cross_correlate(): Checking for stations already done: 0 pairs\n",
            "2023-09-09 15:37:24,685 4384736640 INFO utils.log_raw(): TIMING CC Main: 0.0002 secs. for check for stations already done\n",
            "2023-09-09 15:37:24,685 4384736640 INFO S1_fft_cc_MPI.cross_correlate(): Still need to process: 0/0 stations, 0/0 channels, 0/0 pairs for 2002-01-15T00:00:00+0000 - 2002-01-16T00:00:00+0000\n",
            "2023-09-09 15:37:24,686 4384736640 WARNING S1_fft_cc_MPI.cross_correlate(): 2002-01-15T00:00:00+0000 - 2002-01-16T00:00:00+0000 already completed\n",
            "2023-09-09 15:37:24,687 4384736640 INFO utils.log_raw(): TIMING: 0.0013 secs. for Loading 876 files from s3://scedc-pds/continuous_waveforms/2002/2002_016/\n",
            "2023-09-09 15:37:24,696 4384736640 INFO utils.log_raw(): TIMING: 0.0083 secs. for Init: 0 timespans and 0 channels\n",
            "2023-09-09 15:37:24,696 4384736640 INFO scedc_s3store.get_channels(): Getting 0 channels for 2002-01-16T00:00:00+0000 - 2002-01-17T00:00:00+0000: []\n",
            "2023-09-09 15:37:24,697 4384736640 INFO utils.log_raw(): TIMING CC Main: 0.0107 secs. for get 0 channels\n",
            "2023-09-09 15:37:24,697 4384736640 INFO S1_fft_cc_MPI.cross_correlate(): Checking for stations already done: 0 pairs\n",
            "2023-09-09 15:37:24,697 4384736640 INFO utils.log_raw(): TIMING CC Main: 0.0003 secs. for check for stations already done\n",
            "2023-09-09 15:37:24,697 4384736640 INFO S1_fft_cc_MPI.cross_correlate(): Still need to process: 0/0 stations, 0/0 channels, 0/0 pairs for 2002-01-16T00:00:00+0000 - 2002-01-17T00:00:00+0000\n",
            "2023-09-09 15:37:24,698 4384736640 WARNING S1_fft_cc_MPI.cross_correlate(): 2002-01-16T00:00:00+0000 - 2002-01-17T00:00:00+0000 already completed\n",
            "2023-09-09 15:37:24,700 4384736640 INFO utils.log_raw(): TIMING: 0.0018 secs. for Loading 888 files from s3://scedc-pds/continuous_waveforms/2002/2002_017/\n",
            "2023-09-09 15:37:24,709 4384736640 INFO utils.log_raw(): TIMING: 0.0087 secs. for Init: 0 timespans and 0 channels\n",
            "2023-09-09 15:37:24,709 4384736640 INFO scedc_s3store.get_channels(): Getting 0 channels for 2002-01-17T00:00:00+0000 - 2002-01-18T00:00:00+0000: []\n",
            "2023-09-09 15:37:24,709 4384736640 INFO utils.log_raw(): TIMING CC Main: 0.0113 secs. for get 0 channels\n",
            "2023-09-09 15:37:24,709 4384736640 INFO S1_fft_cc_MPI.cross_correlate(): Checking for stations already done: 0 pairs\n",
            "2023-09-09 15:37:24,710 4384736640 INFO utils.log_raw(): TIMING CC Main: 0.0003 secs. for check for stations already done\n",
            "2023-09-09 15:37:24,710 4384736640 INFO S1_fft_cc_MPI.cross_correlate(): Still need to process: 0/0 stations, 0/0 channels, 0/0 pairs for 2002-01-17T00:00:00+0000 - 2002-01-18T00:00:00+0000\n",
            "2023-09-09 15:37:24,710 4384736640 WARNING S1_fft_cc_MPI.cross_correlate(): 2002-01-17T00:00:00+0000 - 2002-01-18T00:00:00+0000 already completed\n",
            "2023-09-09 15:37:24,712 4384736640 INFO utils.log_raw(): TIMING: 0.0013 secs. for Loading 894 files from s3://scedc-pds/continuous_waveforms/2002/2002_018/\n",
            "2023-09-09 15:37:24,721 4384736640 INFO utils.log_raw(): TIMING: 0.0085 secs. for Init: 0 timespans and 0 channels\n",
            "2023-09-09 15:37:24,721 4384736640 INFO scedc_s3store.get_channels(): Getting 0 channels for 2002-01-18T00:00:00+0000 - 2002-01-19T00:00:00+0000: []\n",
            "2023-09-09 15:37:24,721 4384736640 INFO utils.log_raw(): TIMING CC Main: 0.0104 secs. for get 0 channels\n",
            "2023-09-09 15:37:24,721 4384736640 INFO S1_fft_cc_MPI.cross_correlate(): Checking for stations already done: 0 pairs\n",
            "2023-09-09 15:37:24,721 4384736640 INFO utils.log_raw(): TIMING CC Main: 0.0002 secs. for check for stations already done\n",
            "2023-09-09 15:37:24,722 4384736640 INFO S1_fft_cc_MPI.cross_correlate(): Still need to process: 0/0 stations, 0/0 channels, 0/0 pairs for 2002-01-18T00:00:00+0000 - 2002-01-19T00:00:00+0000\n",
            "2023-09-09 15:37:24,722 4384736640 WARNING S1_fft_cc_MPI.cross_correlate(): 2002-01-18T00:00:00+0000 - 2002-01-19T00:00:00+0000 already completed\n",
            "2023-09-09 15:37:24,723 4384736640 INFO utils.log_raw(): TIMING: 0.0013 secs. for Loading 894 files from s3://scedc-pds/continuous_waveforms/2002/2002_019/\n",
            "2023-09-09 15:37:24,732 4384736640 INFO utils.log_raw(): TIMING: 0.0086 secs. for Init: 0 timespans and 0 channels\n",
            "2023-09-09 15:37:24,732 4384736640 INFO scedc_s3store.get_channels(): Getting 0 channels for 2002-01-19T00:00:00+0000 - 2002-01-20T00:00:00+0000: []\n",
            "2023-09-09 15:37:24,733 4384736640 INFO utils.log_raw(): TIMING CC Main: 0.0106 secs. for get 0 channels\n",
            "2023-09-09 15:37:24,733 4384736640 INFO S1_fft_cc_MPI.cross_correlate(): Checking for stations already done: 0 pairs\n",
            "2023-09-09 15:37:24,733 4384736640 INFO utils.log_raw(): TIMING CC Main: 0.0003 secs. for check for stations already done\n",
            "2023-09-09 15:37:24,733 4384736640 INFO S1_fft_cc_MPI.cross_correlate(): Still need to process: 0/0 stations, 0/0 channels, 0/0 pairs for 2002-01-19T00:00:00+0000 - 2002-01-20T00:00:00+0000\n",
            "2023-09-09 15:37:24,734 4384736640 WARNING S1_fft_cc_MPI.cross_correlate(): 2002-01-19T00:00:00+0000 - 2002-01-20T00:00:00+0000 already completed\n",
            "2023-09-09 15:37:24,734 4384736640 INFO utils.log_raw(): TIMING CC Main: 0.2252 secs. for Step 1 in total with 10 cores\n"
          ]
        }
      ],
      "source": [
        "cross_correlate(raw_store, config, cc_store)"
      ]
    },
    {
      "cell_type": "markdown",
      "metadata": {
        "id": "GMeH9BslQSSJ"
      },
      "source": [
        "The cross correlations are saved as a single file for each channel pair and each increment of inc_hours. We now will stack all the cross correlations over all time chunk and look at all station pairs results.\n",
        "\n",
        "## Step 2: Stack the cross correlation\n",
        "\n",
        "We  now create the stack stores. Because this tutorial runs locally, we will use an ASDF stack store to output the data. ASDF is a data container in HDF5 that is used in full waveform modeling and inversion. H5 behaves well locally. \n",
        "\n",
        "Each station pair will have 1 H5 file with all components of the cross correlations. While this produces **many** H5 files, it has come down to the noisepy team's favorite option: \n",
        "1. the thread-safe installation of HDF5 is not trivial\n",
        "2. the choice of grouping station pairs within a single file is not flexible to a broad audience of users."
      ]
    },
    {
      "cell_type": "code",
      "execution_count": 36,
      "metadata": {
        "id": "cd32ntmAVx-z"
      },
      "outputs": [],
      "source": [
        "# open a new cc store in read-only mode since we will be doing parallel access for stacking\n",
        "cc_store = ASDFCCStore(cc_data_path, mode=\"r\")\n",
        "stack_store = ASDFStackStore(stack_data_path)"
      ]
    },
    {
      "cell_type": "markdown",
      "metadata": {},
      "source": [
        "Configure the stacking"
      ]
    },
    {
      "cell_type": "code",
      "execution_count": 37,
      "metadata": {},
      "outputs": [],
      "source": [
        "config.stack_method = \"linear\""
      ]
    },
    {
      "cell_type": "code",
      "execution_count": 38,
      "metadata": {},
      "outputs": [
        {
          "name": "stderr",
          "output_type": "stream",
          "text": [
            "2023-09-09 15:35:25,328 4384736640 INFO S2_stacking.initializer(): Station pairs: [(CI.RPV, CI.SBC), (CI.RIO, CI.SBC), (CI.RPV, CI.RPV), (CI.RIO, CI.RPV), (CI.RIO, CI.RIO), (CI.SBC, CI.SBC)], timespans:[2002-01-02T00:00:00+0000 - 2002-01-03T00:00:00+0000, 2002-01-03T00:00:00+0000 - 2002-01-04T00:00:00+0000, 2002-01-04T00:00:00+0000 - 2002-01-05T00:00:00+0000, 2002-01-05T00:00:00+0000 - 2002-01-06T00:00:00+0000, 2002-01-06T00:00:00+0000 - 2002-01-07T00:00:00+0000, 2002-01-07T00:00:00+0000 - 2002-01-08T00:00:00+0000, 2002-01-08T00:00:00+0000 - 2002-01-09T00:00:00+0000, 2002-01-09T00:00:00+0000 - 2002-01-10T00:00:00+0000, 2002-01-10T00:00:00+0000 - 2002-01-11T00:00:00+0000, 2002-01-11T00:00:00+0000 - 2002-01-12T00:00:00+0000, 2002-01-12T00:00:00+0000 - 2002-01-13T00:00:00+0000, 2002-01-13T00:00:00+0000 - 2002-01-14T00:00:00+0000, 2002-01-14T00:00:00+0000 - 2002-01-15T00:00:00+0000, 2002-01-15T00:00:00+0000 - 2002-01-16T00:00:00+0000, 2002-01-16T00:00:00+0000 - 2002-01-17T00:00:00+0000, 2002-01-17T00:00:00+0000 - 2002-01-18T00:00:00+0000, 2002-01-18T00:00:00+0000 - 2002-01-19T00:00:00+0000, 2002-01-19T00:00:00+0000 - 2002-01-20T00:00:00+0000]\n"
          ]
        },
        {
          "name": "stderr",
          "output_type": "stream",
          "text": [
            "Stacking Pairs:   0%|          | 0/6 [00:00<?, ?it/s]2023-09-09 15:35:27,395 4370023808 INFO asdfstore.is_done(): (CI.RIO, CI.RIO) already computed\n",
            "Stacking Pairs. Memory:  3139 MB:  17%|█▋        | 1/6 [00:02<00:10,  2.00s/it]2023-09-09 15:35:27,398 4316104064 INFO asdfstore.is_done(): (CI.RPV, CI.RPV) already computed\n",
            "Stacking Pairs. Memory:  3139 MB:  33%|███▎      | 2/6 [00:02<00:08,  2.00s/it]2023-09-09 15:35:27,430 4380771712 INFO asdfstore.is_done(): (CI.SBC, CI.SBC) already computed\n",
            "2023-09-09 15:35:27,430 4315202944 INFO asdfstore.is_done(): (CI.RIO, CI.RPV) already computed\n",
            "2023-09-09 15:35:27,430 4346856832 INFO asdfstore.is_done(): (CI.RPV, CI.SBC) already computed\n",
            "Stacking Pairs. Memory:  3139 MB:  67%|██████▋   | 4/6 [00:02<00:04,  2.00s/it]2023-09-09 15:35:27,432 4314776960 INFO asdfstore.is_done(): (CI.RIO, CI.SBC) already computed\n",
            "Stacking Pairs. Memory:  3139 MB: 100%|██████████| 6/6 [00:02<00:00,  2.94it/s]\n",
            "2023-09-09 15:35:27,434 4384736640 INFO utils.log_raw(): TIMING: 2.1232 secs. for step 2 in total\n"
          ]
        }
      ],
      "source": [
        "stack(cc_store, stack_store, config)"
      ]
    },
    {
      "cell_type": "markdown",
      "metadata": {
        "id": "jQ-ey7uX9Msx"
      },
      "source": [
        "## QC of the cross correlations for Imaging\n",
        "We now explore the quality of the cross correlations. We plot the moveout of the cross correlations, filtered in some frequency band."
      ]
    },
    {
      "cell_type": "code",
      "execution_count": 39,
      "metadata": {
        "id": "QKSeQpk7WKlW"
      },
      "outputs": [
        {
          "name": "stdout",
          "output_type": "stream",
          "text": [
            "0 0.01031276\n",
            "1 0.0021717441\n",
            "2 0.0002735697\n"
          ]
        },
        {
          "data": {
            "image/png": "[encoded data removed]",
            "text/plain": [
              "<Figure size 640x480 with 1 Axes>"
            ]
          },
          "metadata": {},
          "output_type": "display_data"
        }
      ],
      "source": [
        "plot_all_moveout(stack_store, 'Allstack_linear', 0.1, 0.2, 'ZZ', 1)"
      ]
    }
  ],
  "metadata": {
    "@webio": {
      "lastCommId": null,
      "lastKernelId": null
    },
    "colab": {
      "provenance": []
    },
    "gpuClass": "standard",
    "kernelspec": {
      "display_name": "Python 3",
      "language": "python",
      "name": "python3"
    },
    "language_info": {
      "codemirror_mode": {
        "name": "ipython",
        "version": 3
      },
      "file_extension": ".py",
      "mimetype": "text/x-python",
      "name": "python",
      "nbconvert_exporter": "python",
      "pygments_lexer": "ipython3",
      "version": "3.10.12"
    }
  },
  "nbformat": 4,
  "nbformat_minor": 0
}
